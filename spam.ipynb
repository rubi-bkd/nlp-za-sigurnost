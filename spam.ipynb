{
 "cells": [
  {
   "cell_type": "code",
   "execution_count": 1,
   "id": "d4276f5f",
   "metadata": {},
   "outputs": [
    {
     "name": "stderr",
     "output_type": "stream",
     "text": [
      "[nltk_data] Downloading package stopwords to\n",
      "[nltk_data]     C:\\Users\\Angela\\AppData\\Roaming\\nltk_data...\n",
      "[nltk_data]   Package stopwords is already up-to-date!\n",
      "[nltk_data] Downloading package wordnet to\n",
      "[nltk_data]     C:\\Users\\Angela\\AppData\\Roaming\\nltk_data...\n",
      "[nltk_data]   Package wordnet is already up-to-date!\n",
      "[nltk_data] Downloading package punkt to\n",
      "[nltk_data]     C:\\Users\\Angela\\AppData\\Roaming\\nltk_data...\n",
      "[nltk_data]   Package punkt is already up-to-date!\n",
      "[nltk_data] Downloading package averaged_perceptron_tagger to\n",
      "[nltk_data]     C:\\Users\\Angela\\AppData\\Roaming\\nltk_data...\n",
      "[nltk_data]   Package averaged_perceptron_tagger is already up-to-\n",
      "[nltk_data]       date!\n"
     ]
    }
   ],
   "source": [
    "import pandas as pd\n",
    "import numpy as np\n",
    "import wordcloud\n",
    "import nltk\n",
    "from nltk.corpus import stopwords\n",
    "nltk.download('stopwords')\n",
    "nltk.download('wordnet')\n",
    "nltk.download('punkt')\n",
    "nltk.download('averaged_perceptron_tagger')\n",
    "import matplotlib.pyplot as plt\n",
    "import seaborn as sns\n",
    "from sklearn.feature_extraction.text import TfidfVectorizer\n",
    "from sklearn.naive_bayes import MultinomialNB\n",
    "from sklearn.model_selection import train_test_split\n",
    "from sklearn.metrics import accuracy_score, confusion_matrix, classification_report\n",
    "from sklearn.svm import SVC\n",
    "\n",
    "import warnings\n",
    "warnings.filterwarnings('ignore')"
   ]
  },
  {
   "cell_type": "code",
   "execution_count": 2,
   "id": "3674173b",
   "metadata": {},
   "outputs": [
    {
     "data": {
      "text/html": [
       "<div>\n",
       "<style scoped>\n",
       "    .dataframe tbody tr th:only-of-type {\n",
       "        vertical-align: middle;\n",
       "    }\n",
       "\n",
       "    .dataframe tbody tr th {\n",
       "        vertical-align: top;\n",
       "    }\n",
       "\n",
       "    .dataframe thead th {\n",
       "        text-align: right;\n",
       "    }\n",
       "</style>\n",
       "<table border=\"1\" class=\"dataframe\">\n",
       "  <thead>\n",
       "    <tr style=\"text-align: right;\">\n",
       "      <th></th>\n",
       "      <th>kategorija</th>\n",
       "      <th>poruka</th>\n",
       "    </tr>\n",
       "  </thead>\n",
       "  <tbody>\n",
       "    <tr>\n",
       "      <th>0</th>\n",
       "      <td>spam</td>\n",
       "      <td>Neseseri odabrala je vas! Dragi korisnice, ima...</td>\n",
       "    </tr>\n",
       "    <tr>\n",
       "      <th>1</th>\n",
       "      <td>spam</td>\n",
       "      <td>Pogodite tko se vratio? 50% popusta na artikle...</td>\n",
       "    </tr>\n",
       "    <tr>\n",
       "      <th>2</th>\n",
       "      <td>spam</td>\n",
       "      <td>Toplinski val ne posustaje, a nogometna grozni...</td>\n",
       "    </tr>\n",
       "    <tr>\n",
       "      <th>3</th>\n",
       "      <td>spam</td>\n",
       "      <td>Dragi korisniče, vaša pošiljka iz pošte ne mož...</td>\n",
       "    </tr>\n",
       "    <tr>\n",
       "      <th>4</th>\n",
       "      <td>spam</td>\n",
       "      <td>OBAVIJEST O PRIMJENI ČLANKA 54b. (Izuzeće od o...</td>\n",
       "    </tr>\n",
       "  </tbody>\n",
       "</table>\n",
       "</div>"
      ],
      "text/plain": [
       "  kategorija                                             poruka\n",
       "0       spam  Neseseri odabrala je vas! Dragi korisnice, ima...\n",
       "1       spam  Pogodite tko se vratio? 50% popusta na artikle...\n",
       "2       spam  Toplinski val ne posustaje, a nogometna grozni...\n",
       "3       spam  Dragi korisniče, vaša pošiljka iz pošte ne mož...\n",
       "4       spam  OBAVIJEST O PRIMJENI ČLANKA 54b. (Izuzeće od o..."
      ]
     },
     "execution_count": 2,
     "metadata": {},
     "output_type": "execute_result"
    }
   ],
   "source": [
    "#otvaranje data frame\n",
    "df = pd.read_csv(\"spamham.csv\",encoding='utf-8')\n",
    "df.head()"
   ]
  },
  {
   "cell_type": "code",
   "execution_count": 3,
   "id": "81db9a46",
   "metadata": {},
   "outputs": [
    {
     "name": "stdout",
     "output_type": "stream",
     "text": [
      "<class 'pandas.core.frame.DataFrame'>\n",
      "RangeIndex: 17 entries, 0 to 16\n",
      "Data columns (total 2 columns):\n",
      " #   Column      Non-Null Count  Dtype \n",
      "---  ------      --------------  ----- \n",
      " 0   kategorija  17 non-null     object\n",
      " 1   poruka      17 non-null     object\n",
      "dtypes: object(2)\n",
      "memory usage: 400.0+ bytes\n"
     ]
    }
   ],
   "source": [
    "#osnovni podaci\n",
    "df.info()"
   ]
  },
  {
   "cell_type": "code",
   "execution_count": 4,
   "id": "a27bee24",
   "metadata": {},
   "outputs": [
    {
     "name": "stdout",
     "output_type": "stream",
     "text": [
      "Broj poruka po kategoriji \n",
      " ham     9\n",
      "spam    8\n",
      "Name: kategorija, dtype: int64\n"
     ]
    }
   ],
   "source": [
    "print(\"Broj poruka po kategoriji \\n\",df['kategorija'].value_counts())\n"
   ]
  },
  {
   "cell_type": "code",
   "execution_count": 5,
   "id": "b3bcb37c",
   "metadata": {},
   "outputs": [
    {
     "name": "stdout",
     "output_type": "stream",
     "text": [
      "Postotak pravih poruka: 47.0 %\n",
      "Postotak spam poruka: 53.0 %\n"
     ]
    }
   ],
   "source": [
    "print(\"Postotak pravih poruka:\",round(len(df[df['kategorija']==\"spam\"])/len(df['kategorija']),2)*100,\"%\")\n",
    "print(\"Postotak spam poruka:\",round(len(df[df['kategorija']==\"ham\"])/len(df['kategorija']),2)*100,\"%\")"
   ]
  },
  {
   "cell_type": "code",
   "execution_count": 6,
   "id": "4da02d4a",
   "metadata": {},
   "outputs": [
    {
     "data": {
      "text/html": [
       "<div>\n",
       "<style scoped>\n",
       "    .dataframe tbody tr th:only-of-type {\n",
       "        vertical-align: middle;\n",
       "    }\n",
       "\n",
       "    .dataframe tbody tr th {\n",
       "        vertical-align: top;\n",
       "    }\n",
       "\n",
       "    .dataframe thead th {\n",
       "        text-align: right;\n",
       "    }\n",
       "</style>\n",
       "<table border=\"1\" class=\"dataframe\">\n",
       "  <thead>\n",
       "    <tr style=\"text-align: right;\">\n",
       "      <th></th>\n",
       "      <th>kategorija</th>\n",
       "      <th>poruka</th>\n",
       "      <th>duljina</th>\n",
       "    </tr>\n",
       "  </thead>\n",
       "  <tbody>\n",
       "    <tr>\n",
       "      <th>0</th>\n",
       "      <td>spam</td>\n",
       "      <td>Neseseri odabrala je vas! Dragi korisnice, ima...</td>\n",
       "      <td>151</td>\n",
       "    </tr>\n",
       "    <tr>\n",
       "      <th>1</th>\n",
       "      <td>spam</td>\n",
       "      <td>Pogodite tko se vratio? 50% popusta na artikle...</td>\n",
       "      <td>78</td>\n",
       "    </tr>\n",
       "    <tr>\n",
       "      <th>2</th>\n",
       "      <td>spam</td>\n",
       "      <td>Toplinski val ne posustaje, a nogometna grozni...</td>\n",
       "      <td>300</td>\n",
       "    </tr>\n",
       "    <tr>\n",
       "      <th>3</th>\n",
       "      <td>spam</td>\n",
       "      <td>Dragi korisniče, vaša pošiljka iz pošte ne mož...</td>\n",
       "      <td>149</td>\n",
       "    </tr>\n",
       "    <tr>\n",
       "      <th>4</th>\n",
       "      <td>spam</td>\n",
       "      <td>OBAVIJEST O PRIMJENI ČLANKA 54b. (Izuzeće od o...</td>\n",
       "      <td>153</td>\n",
       "    </tr>\n",
       "  </tbody>\n",
       "</table>\n",
       "</div>"
      ],
      "text/plain": [
       "  kategorija                                             poruka  duljina\n",
       "0       spam  Neseseri odabrala je vas! Dragi korisnice, ima...      151\n",
       "1       spam  Pogodite tko se vratio? 50% popusta na artikle...       78\n",
       "2       spam  Toplinski val ne posustaje, a nogometna grozni...      300\n",
       "3       spam  Dragi korisniče, vaša pošiljka iz pošte ne mož...      149\n",
       "4       spam  OBAVIJEST O PRIMJENI ČLANKA 54b. (Izuzeće od o...      153"
      ]
     },
     "execution_count": 6,
     "metadata": {},
     "output_type": "execute_result"
    }
   ],
   "source": [
    "#stvaranje nove kolumne duljina\n",
    "df['duljina'] = df.poruka.str.len()\n",
    "df.head()"
   ]
  },
  {
   "cell_type": "code",
   "execution_count": 7,
   "id": "38f40ac6",
   "metadata": {},
   "outputs": [
    {
     "data": {
      "text/html": [
       "<div>\n",
       "<style scoped>\n",
       "    .dataframe tbody tr th:only-of-type {\n",
       "        vertical-align: middle;\n",
       "    }\n",
       "\n",
       "    .dataframe tbody tr th {\n",
       "        vertical-align: top;\n",
       "    }\n",
       "\n",
       "    .dataframe thead th {\n",
       "        text-align: right;\n",
       "    }\n",
       "</style>\n",
       "<table border=\"1\" class=\"dataframe\">\n",
       "  <thead>\n",
       "    <tr style=\"text-align: right;\">\n",
       "      <th></th>\n",
       "      <th>kategorija</th>\n",
       "      <th>poruka</th>\n",
       "      <th>duljina</th>\n",
       "    </tr>\n",
       "  </thead>\n",
       "  <tbody>\n",
       "    <tr>\n",
       "      <th>0</th>\n",
       "      <td>spam</td>\n",
       "      <td>neseseri odabrala je vas! dragi korisnice, ima...</td>\n",
       "      <td>151</td>\n",
       "    </tr>\n",
       "    <tr>\n",
       "      <th>1</th>\n",
       "      <td>spam</td>\n",
       "      <td>pogodite tko se vratio? 50% popusta na artikle...</td>\n",
       "      <td>78</td>\n",
       "    </tr>\n",
       "    <tr>\n",
       "      <th>2</th>\n",
       "      <td>spam</td>\n",
       "      <td>toplinski val ne posustaje, a nogometna grozni...</td>\n",
       "      <td>300</td>\n",
       "    </tr>\n",
       "    <tr>\n",
       "      <th>3</th>\n",
       "      <td>spam</td>\n",
       "      <td>dragi korisniče, vaša pošiljka iz pošte ne mož...</td>\n",
       "      <td>149</td>\n",
       "    </tr>\n",
       "    <tr>\n",
       "      <th>4</th>\n",
       "      <td>spam</td>\n",
       "      <td>obavijest o primjeni članka 54b. (izuzeće od o...</td>\n",
       "      <td>153</td>\n",
       "    </tr>\n",
       "  </tbody>\n",
       "</table>\n",
       "</div>"
      ],
      "text/plain": [
       "  kategorija                                             poruka  duljina\n",
       "0       spam  neseseri odabrala je vas! dragi korisnice, ima...      151\n",
       "1       spam  pogodite tko se vratio? 50% popusta na artikle...       78\n",
       "2       spam  toplinski val ne posustaje, a nogometna grozni...      300\n",
       "3       spam  dragi korisniče, vaša pošiljka iz pošte ne mož...      149\n",
       "4       spam  obavijest o primjeni članka 54b. (izuzeće od o...      153"
      ]
     },
     "execution_count": 7,
     "metadata": {},
     "output_type": "execute_result"
    }
   ],
   "source": [
    "#pretvaranje svih poruka u mala slova\n",
    "df['poruka'] = df['poruka'].str.lower()\n",
    "df.head()"
   ]
  },
  {
   "cell_type": "code",
   "execution_count": 8,
   "id": "5b37dedb",
   "metadata": {},
   "outputs": [],
   "source": [
    "#uklanjanje posebnih znakova\n",
    "df['poruka'] = df['poruka'].str.replace(r'[^\\w\\d\\s]', ' ')\n",
    "\n",
    "df['poruka'] = df['poruka'].str.replace(r'\\s+', ' ')\n",
    "\n",
    "df['poruka'] = df['poruka'].str.replace(r'^\\s+|\\s+?$', '')"
   ]
  },
  {
   "cell_type": "code",
   "execution_count": 9,
   "id": "ce3e3155",
   "metadata": {},
   "outputs": [
    {
     "data": {
      "text/html": [
       "<div>\n",
       "<style scoped>\n",
       "    .dataframe tbody tr th:only-of-type {\n",
       "        vertical-align: middle;\n",
       "    }\n",
       "\n",
       "    .dataframe tbody tr th {\n",
       "        vertical-align: top;\n",
       "    }\n",
       "\n",
       "    .dataframe thead th {\n",
       "        text-align: right;\n",
       "    }\n",
       "</style>\n",
       "<table border=\"1\" class=\"dataframe\">\n",
       "  <thead>\n",
       "    <tr style=\"text-align: right;\">\n",
       "      <th></th>\n",
       "      <th>kategorija</th>\n",
       "      <th>poruka</th>\n",
       "      <th>duljina</th>\n",
       "    </tr>\n",
       "  </thead>\n",
       "  <tbody>\n",
       "    <tr>\n",
       "      <th>0</th>\n",
       "      <td>spam</td>\n",
       "      <td>neseseri odabrala je vas dragi korisnice imajt...</td>\n",
       "      <td>151</td>\n",
       "    </tr>\n",
       "    <tr>\n",
       "      <th>1</th>\n",
       "      <td>spam</td>\n",
       "      <td>pogodite tko se vratio 50 popusta na artikle k...</td>\n",
       "      <td>78</td>\n",
       "    </tr>\n",
       "    <tr>\n",
       "      <th>2</th>\n",
       "      <td>spam</td>\n",
       "      <td>toplinski val ne posustaje a nogometna groznic...</td>\n",
       "      <td>300</td>\n",
       "    </tr>\n",
       "    <tr>\n",
       "      <th>3</th>\n",
       "      <td>spam</td>\n",
       "      <td>dragi korisniče vaša pošiljka iz pošte ne može...</td>\n",
       "      <td>149</td>\n",
       "    </tr>\n",
       "    <tr>\n",
       "      <th>4</th>\n",
       "      <td>spam</td>\n",
       "      <td>obavijest o primjeni članka 54b izuzeće od obv...</td>\n",
       "      <td>153</td>\n",
       "    </tr>\n",
       "  </tbody>\n",
       "</table>\n",
       "</div>"
      ],
      "text/plain": [
       "  kategorija                                             poruka  duljina\n",
       "0       spam  neseseri odabrala je vas dragi korisnice imajt...      151\n",
       "1       spam  pogodite tko se vratio 50 popusta na artikle k...       78\n",
       "2       spam  toplinski val ne posustaje a nogometna groznic...      300\n",
       "3       spam  dragi korisniče vaša pošiljka iz pošte ne može...      149\n",
       "4       spam  obavijest o primjeni članka 54b izuzeće od obv...      153"
      ]
     },
     "execution_count": 9,
     "metadata": {},
     "output_type": "execute_result"
    }
   ],
   "source": [
    "df.head()"
   ]
  },
  {
   "cell_type": "code",
   "execution_count": 34,
   "id": "934d9964",
   "metadata": {},
   "outputs": [
    {
     "data": {
      "text/html": [
       "<div>\n",
       "<style scoped>\n",
       "    .dataframe tbody tr th:only-of-type {\n",
       "        vertical-align: middle;\n",
       "    }\n",
       "\n",
       "    .dataframe tbody tr th {\n",
       "        vertical-align: top;\n",
       "    }\n",
       "\n",
       "    .dataframe thead th {\n",
       "        text-align: right;\n",
       "    }\n",
       "</style>\n",
       "<table border=\"1\" class=\"dataframe\">\n",
       "  <thead>\n",
       "    <tr style=\"text-align: right;\">\n",
       "      <th></th>\n",
       "      <th>kategorija</th>\n",
       "      <th>poruka</th>\n",
       "      <th>duljina</th>\n",
       "      <th>cisto_dulj</th>\n",
       "    </tr>\n",
       "  </thead>\n",
       "  <tbody>\n",
       "    <tr>\n",
       "      <th>0</th>\n",
       "      <td>spam</td>\n",
       "      <td>neseseri odabrala dragi korisnice imajte umu p...</td>\n",
       "      <td>151</td>\n",
       "      <td>126</td>\n",
       "    </tr>\n",
       "    <tr>\n",
       "      <th>1</th>\n",
       "      <td>spam</td>\n",
       "      <td>pogodite vratio 50 popusta artikle ponovno ima...</td>\n",
       "      <td>78</td>\n",
       "      <td>57</td>\n",
       "    </tr>\n",
       "    <tr>\n",
       "      <th>2</th>\n",
       "      <td>spam</td>\n",
       "      <td>toplinski val posustaje nogometna groznica uvi...</td>\n",
       "      <td>300</td>\n",
       "      <td>250</td>\n",
       "    </tr>\n",
       "    <tr>\n",
       "      <th>3</th>\n",
       "      <td>spam</td>\n",
       "      <td>dragi korisniče pošiljka pošte dostavljena upl...</td>\n",
       "      <td>149</td>\n",
       "      <td>108</td>\n",
       "    </tr>\n",
       "    <tr>\n",
       "      <th>4</th>\n",
       "      <td>spam</td>\n",
       "      <td>obavijest primjeni članka 54b izuzeće obveze i...</td>\n",
       "      <td>153</td>\n",
       "      <td>131</td>\n",
       "    </tr>\n",
       "  </tbody>\n",
       "</table>\n",
       "</div>"
      ],
      "text/plain": [
       "  kategorija                                             poruka  duljina  \\\n",
       "0       spam  neseseri odabrala dragi korisnice imajte umu p...      151   \n",
       "1       spam  pogodite vratio 50 popusta artikle ponovno ima...       78   \n",
       "2       spam  toplinski val posustaje nogometna groznica uvi...      300   \n",
       "3       spam  dragi korisniče pošiljka pošte dostavljena upl...      149   \n",
       "4       spam  obavijest primjeni članka 54b izuzeće obveze i...      153   \n",
       "\n",
       "   cisto_dulj  \n",
       "0         126  \n",
       "1          57  \n",
       "2         250  \n",
       "3         108  \n",
       "4         131  "
      ]
     },
     "execution_count": 34,
     "metadata": {},
     "output_type": "execute_result"
    }
   ],
   "source": [
    "import string\n",
    "import nltk\n",
    "from nltk.corpus import stopwords\n",
    "\n",
    "stop_words = set(stopwords.words('english') + ['biste','e','u', 'za', 'sto', 'su', 'je', 'a', 'ako', 'bi', 'ali', 'ili', 'lp', 'do', 'da', 'ja', 'jesu', 'jesmo', 'na', 'ne', 'o', 'od', 's', 'sa', 'si', 'ti', 'u', 'vi', 'ćemo', 'što', 'tebe', 'ta', 'sebe', 'se', 'tko', 'vas!', 'vas' 'vaša', 'dok', 'jer', 'nije', 'i', 'zbog', 'o', 'u', 'iz', 'na', 'kako', 'kada', 'kome', 'biti', 'bi', 'može', 'mogu', 'još', 'koje', 'koga', 'kojem', 'komu', 'iako', 'O', 'vas', 'vaša'])\n",
    "\n",
    "df['poruka'] = df['poruka'].apply(lambda x: \" \".join(term for term in x.split() if term not in stop_words))\n",
    "df.head()"
   ]
  },
  {
   "cell_type": "code",
   "execution_count": 35,
   "id": "1e63acf8",
   "metadata": {},
   "outputs": [
    {
     "data": {
      "text/html": [
       "<div>\n",
       "<style scoped>\n",
       "    .dataframe tbody tr th:only-of-type {\n",
       "        vertical-align: middle;\n",
       "    }\n",
       "\n",
       "    .dataframe tbody tr th {\n",
       "        vertical-align: top;\n",
       "    }\n",
       "\n",
       "    .dataframe thead th {\n",
       "        text-align: right;\n",
       "    }\n",
       "</style>\n",
       "<table border=\"1\" class=\"dataframe\">\n",
       "  <thead>\n",
       "    <tr style=\"text-align: right;\">\n",
       "      <th></th>\n",
       "      <th>kategorija</th>\n",
       "      <th>poruka</th>\n",
       "      <th>duljina</th>\n",
       "      <th>cisto_dulj</th>\n",
       "    </tr>\n",
       "  </thead>\n",
       "  <tbody>\n",
       "    <tr>\n",
       "      <th>0</th>\n",
       "      <td>spam</td>\n",
       "      <td>neseseri odabrala dragi korisnice imajte umu p...</td>\n",
       "      <td>151</td>\n",
       "      <td>126</td>\n",
       "    </tr>\n",
       "    <tr>\n",
       "      <th>1</th>\n",
       "      <td>spam</td>\n",
       "      <td>pogodite vratio 50 popusta artikle ponovno ima...</td>\n",
       "      <td>78</td>\n",
       "      <td>57</td>\n",
       "    </tr>\n",
       "    <tr>\n",
       "      <th>2</th>\n",
       "      <td>spam</td>\n",
       "      <td>toplinski val posustaje nogometna groznica uvi...</td>\n",
       "      <td>300</td>\n",
       "      <td>250</td>\n",
       "    </tr>\n",
       "    <tr>\n",
       "      <th>3</th>\n",
       "      <td>spam</td>\n",
       "      <td>dragi korisniče pošiljka pošte dostavljena upl...</td>\n",
       "      <td>149</td>\n",
       "      <td>108</td>\n",
       "    </tr>\n",
       "    <tr>\n",
       "      <th>4</th>\n",
       "      <td>spam</td>\n",
       "      <td>obavijest primjeni članka 54b izuzeće obveze i...</td>\n",
       "      <td>153</td>\n",
       "      <td>125</td>\n",
       "    </tr>\n",
       "  </tbody>\n",
       "</table>\n",
       "</div>"
      ],
      "text/plain": [
       "  kategorija                                             poruka  duljina  \\\n",
       "0       spam  neseseri odabrala dragi korisnice imajte umu p...      151   \n",
       "1       spam  pogodite vratio 50 popusta artikle ponovno ima...       78   \n",
       "2       spam  toplinski val posustaje nogometna groznica uvi...      300   \n",
       "3       spam  dragi korisniče pošiljka pošte dostavljena upl...      149   \n",
       "4       spam  obavijest primjeni članka 54b izuzeće obveze i...      153   \n",
       "\n",
       "   cisto_dulj  \n",
       "0         126  \n",
       "1          57  \n",
       "2         250  \n",
       "3         108  \n",
       "4         125  "
      ]
     },
     "execution_count": 35,
     "metadata": {},
     "output_type": "execute_result"
    }
   ],
   "source": [
    "#cisto_dulj - nova kolumna dužine poruka nakon uklanjanja znakova i stop riječi\n",
    "df['cisto_dulj'] = df.poruka.str.len()\n",
    "df.head()"
   ]
  },
  {
   "cell_type": "code",
   "execution_count": 32,
   "id": "8f17cbfc",
   "metadata": {},
   "outputs": [
    {
     "name": "stdout",
     "output_type": "stream",
     "text": [
      "prvotna duljina: 3090\n",
      "pročišćena duljina: 2585\n",
      "ukupno uklonjeno riječi: 505\n"
     ]
    }
   ],
   "source": [
    "print(\"prvotna duljina:\",df.duljina.sum())\n",
    "print(\"pročišćena duljina:\",df.cisto_dulj.sum())\n",
    "print(\"ukupno uklonjeno riječi:\",(df.duljina.sum()) - (df.cisto_dulj.sum()))"
   ]
  },
  {
   "cell_type": "code",
   "execution_count": 23,
   "id": "b4d812f5",
   "metadata": {},
   "outputs": [
    {
     "data": {
      "image/png": "[encoded data removed]",
      "text/plain": [
       "<Figure size 432x288 with 1 Axes>"
      ]
     },
     "metadata": {
      "needs_background": "light"
     },
     "output_type": "display_data"
    },
    {
     "name": "stdout",
     "output_type": "stream",
     "text": [
      "ham     9\n",
      "spam    8\n",
      "Name: kategorija, dtype: int64\n"
     ]
    }
   ],
   "source": [
    "#Vizualizacija\n",
    "plt.figure(figsize=(6,4))\n",
    "sns.countplot(df['kategorija'],palette= 'Blues')\n",
    "plt.xticks(rotation='horizontal')\n",
    "plt.show()\n",
    "\n",
    "print(df.kategorija.value_counts())"
   ]
  },
  {
   "cell_type": "code",
   "execution_count": 36,
   "id": "373da0a3",
   "metadata": {},
   "outputs": [
    {
     "data": {
      "image/png": "[encoded data removed]",
      "text/plain": [
       "<Figure size 720x576 with 1 Axes>"
      ]
     },
     "metadata": {},
     "output_type": "display_data"
    }
   ],
   "source": [
    "#najčešće riječi u spamu\n",
    "from wordcloud import WordCloud\n",
    "\n",
    "spam = df['poruka'][df['kategorija']=='spam']\n",
    "\n",
    "spam_obl = WordCloud(width=800,height=500,background_color='white',max_words=10).generate(' '.join(spam))\n",
    "\n",
    "plt.figure(figsize=(10,8),facecolor='b')\n",
    "plt.imshow(spam_obl)\n",
    "plt.axis('off')\n",
    "plt.tight_layout(pad=0)\n",
    "plt.show()"
   ]
  },
  {
   "cell_type": "code",
   "execution_count": 37,
   "id": "98f1166d",
   "metadata": {},
   "outputs": [],
   "source": [
    "#Konvertiranje teksta u vektore TF-IDF\n",
    "#korištenje multinominal klas.\n",
    "\n",
    "\n",
    "\n",
    "tf_vec = TfidfVectorizer()\n",
    "\n",
    "\n",
    "SVM = SVC(C=1.0, kernel='linear', degree=3 , gamma='auto')\n",
    "\n",
    "features = tf_vec.fit_transform(df['poruka'])\n",
    "\n",
    "X = features\n",
    "y = df['kategorija']"
   ]
  },
  {
   "cell_type": "code",
   "execution_count": 72,
   "id": "c62fc0e7",
   "metadata": {},
   "outputs": [
    {
     "name": "stdout",
     "output_type": "stream",
     "text": [
      "Rezultat = >  0.8\n"
     ]
    }
   ],
   "source": [
    "#predikcija i učenje\n",
    "X_train,x_test,Y_train,y_test = train_test_split(X,y,random_state=8)         #test_size=0.20 random_state=8 test_size=0.15\n",
    "\n",
    "\n",
    "SVM.fit(X_train,Y_train)\n",
    "y_pred = SVM.predict(x_test)\n",
    "\n",
    "print ('Rezultat = > ', accuracy_score(y_test,y_pred))"
   ]
  },
  {
   "cell_type": "code",
   "execution_count": 69,
   "id": "c8027eca",
   "metadata": {},
   "outputs": [
    {
     "data": {
      "text/plain": [
       "array(['spam', 'ham', 'ham', 'ham', 'ham'], dtype=object)"
      ]
     },
     "execution_count": 69,
     "metadata": {},
     "output_type": "execute_result"
    }
   ],
   "source": [
    "y_pred"
   ]
  },
  {
   "cell_type": "code",
   "execution_count": 70,
   "id": "7c96f4d3",
   "metadata": {},
   "outputs": [
    {
     "name": "stdout",
     "output_type": "stream",
     "text": [
      "              precision    recall  f1-score   support\n",
      "\n",
      "         ham       0.75      1.00      0.86         3\n",
      "        spam       1.00      0.50      0.67         2\n",
      "\n",
      "    accuracy                           0.80         5\n",
      "   macro avg       0.88      0.75      0.76         5\n",
      "weighted avg       0.85      0.80      0.78         5\n",
      "\n"
     ]
    }
   ],
   "source": [
    "print(classification_report(y_test, y_pred))"
   ]
  },
  {
   "cell_type": "code",
   "execution_count": 67,
   "id": "ad75c70f",
   "metadata": {},
   "outputs": [],
   "source": [
    "#spremanje programa za klasifikaciju\n",
    "import pickle\n",
    "filename='email_spam_detect.pkl'\n",
    "M=open(filename,'wb')\n",
    "pickle.dump(SVM,M)                                                                                                                                                                                                                                                                                                                                                                                                                                                                                                                                                                                                                                                                                                                                                                                                                                                                                                                                                                                                                           \n",
    "M.close()"
   ]
  }
 ],
 "metadata": {
  "kernelspec": {
   "display_name": "Python 3",
   "language": "python",
   "name": "python3"
  },
  "language_info": {
   "codemirror_mode": {
    "name": "ipython",
    "version": 3
   },
   "file_extension": ".py",
   "mimetype": "text/x-python",
   "name": "python",
   "nbconvert_exporter": "python",
   "pygments_lexer": "ipython3",
   "version": "3.8.8"
  }
 },
 "nbformat": 4,
 "nbformat_minor": 5
}
