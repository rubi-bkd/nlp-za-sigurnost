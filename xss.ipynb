{
 "cells": [
  {
   "cell_type": "code",
   "execution_count": 1,
   "id": "19899bd4",
   "metadata": {},
   "outputs": [],
   "source": [
    "import numpy as np\n",
    "import pandas as pd\n",
    "import glob\n",
    "import time\n",
    "\n",
    "\n",
    "import os\n",
    "import matplotlib.pyplot as plt\n",
    "import keras\n",
    "import cv2\n"
   ]
  },
  {
   "cell_type": "code",
   "execution_count": 2,
   "id": "5fca7e2d",
   "metadata": {},
   "outputs": [],
   "source": [
    "df=pd.read_csv('./xss.csv', encoding='utf-8')"
   ]
  },
  {
   "cell_type": "code",
   "execution_count": 3,
   "id": "3d0fa871",
   "metadata": {},
   "outputs": [
    {
     "data": {
      "text/html": [
       "<div>\n",
       "<style scoped>\n",
       "    .dataframe tbody tr th:only-of-type {\n",
       "        vertical-align: middle;\n",
       "    }\n",
       "\n",
       "    .dataframe tbody tr th {\n",
       "        vertical-align: top;\n",
       "    }\n",
       "\n",
       "    .dataframe thead th {\n",
       "        text-align: right;\n",
       "    }\n",
       "</style>\n",
       "<table border=\"1\" class=\"dataframe\">\n",
       "  <thead>\n",
       "    <tr style=\"text-align: right;\">\n",
       "      <th></th>\n",
       "      <th>Unnamed: 0</th>\n",
       "      <th>kod</th>\n",
       "      <th>label</th>\n",
       "    </tr>\n",
       "  </thead>\n",
       "  <tbody>\n",
       "    <tr>\n",
       "      <th>0</th>\n",
       "      <td>0</td>\n",
       "      <td>&lt;li&gt;&lt;a href=\"/wiki/File:Socrates.png\" class=\"i...</td>\n",
       "      <td>0</td>\n",
       "    </tr>\n",
       "    <tr>\n",
       "      <th>1</th>\n",
       "      <td>1</td>\n",
       "      <td>&lt;tt onmouseover=\"alert(1)\"&gt;test&lt;/tt&gt;</td>\n",
       "      <td>1</td>\n",
       "    </tr>\n",
       "    <tr>\n",
       "      <th>2</th>\n",
       "      <td>2</td>\n",
       "      <td>\\t &lt;/span&gt; &lt;span class=\"reference-text\"&gt;Steeri...</td>\n",
       "      <td>0</td>\n",
       "    </tr>\n",
       "    <tr>\n",
       "      <th>3</th>\n",
       "      <td>3</td>\n",
       "      <td>\\t &lt;/span&gt; &lt;span class=\"reference-text\"&gt;&lt;cite ...</td>\n",
       "      <td>0</td>\n",
       "    </tr>\n",
       "    <tr>\n",
       "      <th>4</th>\n",
       "      <td>4</td>\n",
       "      <td>\\t &lt;/span&gt;. &lt;a href=\"/wiki/Digital_object_iden...</td>\n",
       "      <td>0</td>\n",
       "    </tr>\n",
       "  </tbody>\n",
       "</table>\n",
       "</div>"
      ],
      "text/plain": [
       "   Unnamed: 0                                                kod  label\n",
       "0           0  <li><a href=\"/wiki/File:Socrates.png\" class=\"i...      0\n",
       "1           1               <tt onmouseover=\"alert(1)\">test</tt>      1\n",
       "2           2  \\t </span> <span class=\"reference-text\">Steeri...      0\n",
       "3           3  \\t </span> <span class=\"reference-text\"><cite ...      0\n",
       "4           4  \\t </span>. <a href=\"/wiki/Digital_object_iden...      0"
      ]
     },
     "execution_count": 3,
     "metadata": {},
     "output_type": "execute_result"
    }
   ],
   "source": [
    "df.head()\n"
   ]
  },
  {
   "cell_type": "code",
   "execution_count": 4,
   "id": "307fec2e",
   "metadata": {},
   "outputs": [
    {
     "data": {
      "text/plain": [
       "'<tt onmouseover=\"alert(1)\">test</tt>'"
      ]
     },
     "execution_count": 4,
     "metadata": {},
     "output_type": "execute_result"
    }
   ],
   "source": [
    "kod=df['kod'].values\n",
    "kod[1]"
   ]
  },
  {
   "cell_type": "code",
   "execution_count": 5,
   "id": "44f9b532",
   "metadata": {},
   "outputs": [
    {
     "name": "stdout",
     "output_type": "stream",
     "text": [
      "1021\n"
     ]
    }
   ],
   "source": [
    "print(len(kod))\n"
   ]
  },
  {
   "cell_type": "code",
   "execution_count": 6,
   "id": "155f456c",
   "metadata": {},
   "outputs": [],
   "source": [
    "#prebacivanje u ASCII zbog određenih znakova koji imaju velike vrijednosti\n",
    "#uklanjanje znakova koji imaju veće vrijednosti od 8222\n",
    "#za ostale vrijednosti veće od 128 i manje od 8222 dodijeljuju se vrijednosti koje se mogu lako normalizirati\n",
    "def convert_to_ascii(kod):\n",
    "    kod_ascii=[]\n",
    "    for i in kod:       \n",
    "        if(ord(i)<8222):\n",
    "            if(ord(i)==8217):\n",
    "                kod_ascii.append(134)      \n",
    "            if(ord(i)==8221):\n",
    "                kod_ascii.append(129) \n",
    "            if(ord(i)==8220):\n",
    "                kod_ascii.append(130)   \n",
    "            if(ord(i)==8216):\n",
    "                kod_ascii.append(131)   \n",
    "            if(ord(i)==8217):\n",
    "                kod_ascii.append(132)\n",
    "            if(ord(i)==8211):\n",
    "                kod_ascii.append(133)\n",
    "            if (ord(i)<=128):\n",
    "                    kod_ascii.append(ord(i))\n",
    "            else:\n",
    "                    pass\n",
    "                \n",
    "    zer=np.zeros((10000))\n",
    "    for i in range(len(kod_ascii)):\n",
    "        zer[i]=kod_ascii[i]\n",
    "    zer.shape=(100, 100)\n",
    "    return zer"
   ]
  },
  {
   "cell_type": "code",
   "execution_count": 7,
   "id": "44ce44ab",
   "metadata": {},
   "outputs": [],
   "source": [
    "#svaki kod u df pretvori u ascii\n",
    "\n",
    "arr=np.zeros((len(kod),100,100))\n",
    "\n",
    "for i in range(len(kod)):    \n",
    "    image=convert_to_ascii(kod[i])\n",
    "    x=np.asarray(image,dtype='float')\n",
    "    image =  cv2.resize(x, dsize=(100,100), interpolation=cv2.INTER_CUBIC)\n",
    "    image/=128       \n",
    "    arr[i]=image"
   ]
  },
  {
   "cell_type": "code",
   "execution_count": 8,
   "id": "5f865eb7",
   "metadata": {},
   "outputs": [
    {
     "name": "stdout",
     "output_type": "stream",
     "text": [
      "Oblik :  (1021, 100, 100)\n"
     ]
    }
   ],
   "source": [
    "print(\"Oblik : \", arr.shape)\n"
   ]
  },
  {
   "cell_type": "code",
   "execution_count": 9,
   "id": "1ca0b7f1",
   "metadata": {},
   "outputs": [],
   "source": [
    "#izmjena oblika podataka da bi odgovaralo za CNN  AAAAAAA\n",
    "data = arr.reshape(arr.shape[0], 100, 100, 1)"
   ]
  },
  {
   "cell_type": "code",
   "execution_count": 10,
   "id": "bd396a08",
   "metadata": {},
   "outputs": [
    {
     "data": {
      "text/plain": [
       "(1021, 100, 100, 1)"
      ]
     },
     "execution_count": 10,
     "metadata": {},
     "output_type": "execute_result"
    }
   ],
   "source": [
    "data.shape\n"
   ]
  },
  {
   "cell_type": "code",
   "execution_count": 11,
   "id": "07963504",
   "metadata": {},
   "outputs": [],
   "source": [
    "y=df['label'].values\n"
   ]
  },
  {
   "cell_type": "code",
   "execution_count": 12,
   "id": "811ed223",
   "metadata": {},
   "outputs": [],
   "source": [
    "#podijela u test/učenje podatke\n",
    "from sklearn.model_selection import train_test_split\n",
    "trainX, testX, trainY, testY = train_test_split(data,y, test_size=0.2, random_state=42)"
   ]
  },
  {
   "cell_type": "code",
   "execution_count": 13,
   "id": "ebe4a01f",
   "metadata": {},
   "outputs": [],
   "source": [
    "#import za model\n",
    "import tensorflow as tf\n",
    "from keras.models import Sequential\n",
    "from keras.layers import Dense, Activation, Conv2D, MaxPooling2D,Flatten,Dropout,MaxPool2D, BatchNormalization"
   ]
  },
  {
   "cell_type": "code",
   "execution_count": 14,
   "id": "5a7ae386",
   "metadata": {},
   "outputs": [],
   "source": [
    "# CNN model, broj slojeva 11, broj konvolucijskih slojeva 3\n",
    "\n",
    "model=tf.keras.models.Sequential([\n",
    "    \n",
    "    tf.keras.layers.Conv2D(64,(3,3), activation=tf.nn.relu, input_shape=(100,100,1)),\n",
    "    tf.keras.layers.MaxPooling2D(2,2),\n",
    "    \n",
    "    tf.keras.layers.Conv2D(128,(3,3), activation='relu'),\n",
    "    tf.keras.layers.MaxPooling2D(2,2),\n",
    "    \n",
    "    tf.keras.layers.Conv2D(256,(3,3), activation='relu'),\n",
    "    tf.keras.layers.MaxPooling2D(2,2),\n",
    "    \n",
    "    tf.keras.layers.Flatten(),\n",
    "    tf.keras.layers.Dense(256, activation='relu'),\n",
    "    tf.keras.layers.Dense(128, activation='relu'),\n",
    "    tf.keras.layers.Dense(64, activation='relu'),\n",
    "    tf.keras.layers.Dense(1, activation='sigmoid')\n",
    "    \n",
    "])"
   ]
  },
  {
   "cell_type": "code",
   "execution_count": 15,
   "id": "eb3f0204",
   "metadata": {},
   "outputs": [
    {
     "name": "stdout",
     "output_type": "stream",
     "text": [
      "Model: \"sequential\"\n",
      "_________________________________________________________________\n",
      "Layer (type)                 Output Shape              Param #   \n",
      "=================================================================\n",
      "conv2d (Conv2D)              (None, 98, 98, 64)        640       \n",
      "_________________________________________________________________\n",
      "max_pooling2d (MaxPooling2D) (None, 49, 49, 64)        0         \n",
      "_________________________________________________________________\n",
      "conv2d_1 (Conv2D)            (None, 47, 47, 128)       73856     \n",
      "_________________________________________________________________\n",
      "max_pooling2d_1 (MaxPooling2 (None, 23, 23, 128)       0         \n",
      "_________________________________________________________________\n",
      "conv2d_2 (Conv2D)            (None, 21, 21, 256)       295168    \n",
      "_________________________________________________________________\n",
      "max_pooling2d_2 (MaxPooling2 (None, 10, 10, 256)       0         \n",
      "_________________________________________________________________\n",
      "flatten (Flatten)            (None, 25600)             0         \n",
      "_________________________________________________________________\n",
      "dense (Dense)                (None, 256)               6553856   \n",
      "_________________________________________________________________\n",
      "dense_1 (Dense)              (None, 128)               32896     \n",
      "_________________________________________________________________\n",
      "dense_2 (Dense)              (None, 64)                8256      \n",
      "_________________________________________________________________\n",
      "dense_3 (Dense)              (None, 1)                 65        \n",
      "=================================================================\n",
      "Total params: 6,964,737\n",
      "Trainable params: 6,964,737\n",
      "Non-trainable params: 0\n",
      "_________________________________________________________________\n"
     ]
    }
   ],
   "source": [
    "model.compile(loss='binary_crossentropy', \n",
    "              optimizer='adam', \n",
    "              metrics=['accuracy'])\n",
    "model.summary()"
   ]
  },
  {
   "cell_type": "code",
   "execution_count": 28,
   "id": "ec0cdb2c",
   "metadata": {},
   "outputs": [
    {
     "name": "stdout",
     "output_type": "stream",
     "text": [
      "Epoch 1/10\n",
      "7/7 [==============================] - 37s 5s/step - loss: 0.3454 - accuracy: 0.8505 - val_loss: 0.4074 - val_accuracy: 0.8146\n",
      "Epoch 2/10\n",
      "7/7 [==============================] - 37s 5s/step - loss: 0.3404 - accuracy: 0.8566 - val_loss: 0.4099 - val_accuracy: 0.8195\n",
      "Epoch 3/10\n",
      "7/7 [==============================] - 38s 5s/step - loss: 0.3109 - accuracy: 0.8750 - val_loss: 0.3768 - val_accuracy: 0.8390\n",
      "Epoch 4/10\n",
      "7/7 [==============================] - 39s 6s/step - loss: 0.2812 - accuracy: 0.8958 - val_loss: 0.3452 - val_accuracy: 0.8829\n",
      "Epoch 5/10\n",
      "7/7 [==============================] - 40s 6s/step - loss: 0.2338 - accuracy: 0.9240 - val_loss: 0.3102 - val_accuracy: 0.8927\n",
      "Epoch 6/10\n",
      "7/7 [==============================] - 41s 6s/step - loss: 0.1738 - accuracy: 0.9461 - val_loss: 0.3020 - val_accuracy: 0.8634\n",
      "Epoch 7/10\n",
      "7/7 [==============================] - 51s 7s/step - loss: 0.1214 - accuracy: 0.9510 - val_loss: 0.2281 - val_accuracy: 0.9317\n",
      "Epoch 8/10\n",
      "7/7 [==============================] - 43s 6s/step - loss: 0.1176 - accuracy: 0.9534 - val_loss: 0.4738 - val_accuracy: 0.7854\n",
      "Epoch 9/10\n",
      "7/7 [==============================] - 39s 6s/step - loss: 0.1508 - accuracy: 0.9449 - val_loss: 0.2376 - val_accuracy: 0.9220\n",
      "Epoch 10/10\n",
      "7/7 [==============================] - 39s 6s/step - loss: 0.1199 - accuracy: 0.9608 - val_loss: 0.1849 - val_accuracy: 0.9415\n"
     ]
    }
   ],
   "source": [
    "batch_size = 128\n",
    "num_epoch = 10\n",
    "#model\n",
    "model_log = model.fit(trainX, trainY,\n",
    "          batch_size=batch_size,\n",
    "          epochs=num_epoch,\n",
    "          verbose=1,\n",
    "          validation_data=( testX,  testY))"
   ]
  },
  {
   "cell_type": "code",
   "execution_count": 29,
   "id": "6bbca79b",
   "metadata": {},
   "outputs": [],
   "source": [
    "#predikcija za set poadataka za treniranje\n",
    "pred=model.predict(testX)"
   ]
  },
  {
   "cell_type": "code",
   "execution_count": 30,
   "id": "aa87d449",
   "metadata": {},
   "outputs": [],
   "source": [
    "# predviđene vrijednosti\n",
    "\n",
    "for i in range(len(pred)):\n",
    "    if pred[i]>0.5:\n",
    "        pred[i]=1\n",
    "    elif pred[i]<=0.5:\n",
    "        pred[i]=0"
   ]
  },
  {
   "cell_type": "code",
   "execution_count": 31,
   "id": "6406621d",
   "metadata": {},
   "outputs": [
    {
     "name": "stdout",
     "output_type": "stream",
     "text": [
      "točno predviđeno ::  193\n",
      "krivo predviđeno ::  12\n"
     ]
    }
   ],
   "source": [
    "#izbroji točne predviđene i krivo predviđene vrijednosti\n",
    "\n",
    "true=0\n",
    "false=0\n",
    "\n",
    "for i in range(len(pred)):\n",
    "    if pred[i] == testY[i]:\n",
    "        true+=1\n",
    "    else:\n",
    "        false+=1\n",
    "        \n",
    "print(\"točno predviđeno :: \", true)\n",
    "print(\"krivo predviđeno :: \", false)"
   ]
  },
  {
   "cell_type": "code",
   "execution_count": 32,
   "id": "490dde1f",
   "metadata": {},
   "outputs": [
    {
     "name": "stdout",
     "output_type": "stream",
     "text": [
      "Maliciozni ::  110\n",
      "Normalni ::  95\n"
     ]
    }
   ],
   "source": [
    "#broj malicioznih i normalnih kodova u setu podataka\n",
    "\n",
    "mal=0\n",
    "good=0\n",
    "for i in range(len(testY)):\n",
    "    if testY[i]==1:\n",
    "        mal+=1\n",
    "    else:\n",
    "        good+=1\n",
    "\n",
    "print(\"Maliciozni :: \", mal)\n",
    "print(\"Normalni :: \", good)"
   ]
  },
  {
   "cell_type": "code",
   "execution_count": 33,
   "id": "0d2ee1c1",
   "metadata": {},
   "outputs": [],
   "source": [
    "# definiranje fukcije koja uzima točnu predviđene normalne, točno predviđene maliciozne, krivo predviđene normalne i krivo predviđene maliciozne\n",
    "# vraća točnost\n",
    "\n",
    "def accuracy_function(tp,tn,fp,fn):\n",
    "    \n",
    "    accuracy = (tp+tn) / (tp+tn+fp+fn)\n",
    "    \n",
    "    return accuracy"
   ]
  },
  {
   "cell_type": "code",
   "execution_count": 34,
   "id": "23dd6ce7",
   "metadata": {},
   "outputs": [],
   "source": [
    "# uzima prave pozitivne i krive pozitivne rez\n",
    "# vraća preciznost\n",
    "\n",
    "def precision_function(tp,fp):\n",
    "    \n",
    "    precision = tp / (tp+fp)\n",
    "    \n",
    "    return precision"
   ]
  },
  {
   "cell_type": "code",
   "execution_count": 35,
   "id": "c6cf4924",
   "metadata": {},
   "outputs": [],
   "source": [
    "#Uzima točne pozitivne i krive negativne\n",
    "\n",
    "def recall_function(tp,fn):\n",
    "    \n",
    "    recall=tp / (tp+fn)\n",
    "    \n",
    "    return recall"
   ]
  },
  {
   "cell_type": "code",
   "execution_count": 36,
   "id": "e12fb1dc",
   "metadata": {},
   "outputs": [],
   "source": [
    "#Uzima stvarne vrijednosti i predviđene \n",
    "\n",
    "\n",
    "def confusion_matrix(truth,predicted):\n",
    "    \n",
    "    true_positive = 0\n",
    "    true_negative = 0\n",
    "    false_positive = 0\n",
    "    false_negative = 0\n",
    "    \n",
    "    for true,pred in zip(truth,predicted):\n",
    "        if true == 1:\n",
    "            if pred == true:\n",
    "                true_positive += 1\n",
    "            elif pred != true:\n",
    "                false_negative += 1\n",
    "\n",
    "        elif true == 0:\n",
    "            if pred == true:\n",
    "                true_negative += 1\n",
    "            elif pred != true:\n",
    "                false_positive += 1\n",
    "            \n",
    "    accuracy=accuracy_function(true_positive, true_negative, false_positive, false_negative)\n",
    "    precision=precision_function(true_positive, false_positive)\n",
    "    recall=recall_function(true_positive, false_negative)\n",
    "    \n",
    "    return (accuracy,\n",
    "            precision,\n",
    "           recall)"
   ]
  },
  {
   "cell_type": "code",
   "execution_count": 37,
   "id": "74376a35",
   "metadata": {},
   "outputs": [],
   "source": [
    "accuracy,precision,recall=confusion_matrix(testY,pred)\n"
   ]
  },
  {
   "cell_type": "code",
   "execution_count": 38,
   "id": "f3cbf127",
   "metadata": {},
   "outputs": [
    {
     "name": "stdout",
     "output_type": "stream",
     "text": [
      " Accuracy : 0.9414634146341463 \n",
      " Precision : 0.9152542372881356 \n",
      " Recall : 0.9818181818181818\n"
     ]
    }
   ],
   "source": [
    "print(\" Accuracy : {0} \\n Precision : {1} \\n Recall : {2}\".format(accuracy, precision, recall))\n"
   ]
  },
  {
   "cell_type": "code",
   "execution_count": null,
   "id": "6d564e00",
   "metadata": {},
   "outputs": [],
   "source": []
  }
 ],
 "metadata": {
  "kernelspec": {
   "display_name": "Python 3",
   "language": "python",
   "name": "python3"
  },
  "language_info": {
   "codemirror_mode": {
    "name": "ipython",
    "version": 3
   },
   "file_extension": ".py",
   "mimetype": "text/x-python",
   "name": "python",
   "nbconvert_exporter": "python",
   "pygments_lexer": "ipython3",
   "version": "3.8.8"
  }
 },
 "nbformat": 4,
 "nbformat_minor": 5
}
